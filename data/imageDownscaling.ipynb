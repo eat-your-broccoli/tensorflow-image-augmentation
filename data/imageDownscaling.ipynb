{
 "cells": [
  {
   "cell_type": "code",
   "execution_count": null,
   "metadata": {},
   "outputs": [],
   "source": [
    "# this solution is taken from\n",
    "# https://stackoverflow.com/questions/52940369/is-it-possible-to-resize-an-image-by-its-bytes-rather-than-width-and-height"
   ]
  },
  {
   "cell_type": "code",
   "execution_count": null,
   "metadata": {},
   "outputs": [],
   "source": [
    "from PIL import Image\n",
    "import os\n",
    "import io\n",
    "import multiprocessing as mp\n",
    "from itertools import repeat"
   ]
  },
  {
   "cell_type": "code",
   "execution_count": null,
   "metadata": {},
   "outputs": [],
   "source": [
    "# define constants\n",
    "maxFileSize = 500000 # 500kb\n",
    "fileSizeTolerance = 5 # 5 percent tolerance in filesize"
   ]
  },
  {
   "cell_type": "code",
   "execution_count": null,
   "metadata": {},
   "outputs": [],
   "source": [
    "\n",
    "def limitImgSize(srcDir, targetDir, filename, target_filesize, tolerance=5):\n",
    "    img_filename = srcDir+'/'+filename\n",
    "    img_target_filename = targetDir+'/'+filename\n",
    "    print(img_filename)\n",
    "    print(img_target_filename)\n",
    "    \n",
    "    \n",
    "    try: \n",
    "        img = img_orig = Image.open(img_filename)\n",
    "        aspect = img.size[0] / img.size[1]\n",
    "        img = img.convert('RGB')\n",
    "\n",
    "        while True:\n",
    "            with io.BytesIO() as buffer:\n",
    "                img.save(buffer, format=\"JPEG\")\n",
    "                data = buffer.getvalue()\n",
    "            filesize = len(data)    \n",
    "            size_deviation = filesize / target_filesize\n",
    "            print(\"size: {}; factor: {:.3f}\".format(filesize, size_deviation))\n",
    "\n",
    "            if size_deviation <= (100 + tolerance) / 100:\n",
    "                # filesize fits\n",
    "                with open(img_target_filename, \"wb\") as f:\n",
    "                    f.write(data)\n",
    "                break\n",
    "            else:\n",
    "                # filesize not good enough => adapt width and height\n",
    "                # use sqrt of deviation since applied both in width and height\n",
    "                new_width = img.size[0] / size_deviation**0.5    \n",
    "                new_height = new_width / aspect\n",
    "                # resize from img_orig to not lose quality\n",
    "                img = img_orig.resize((int(new_width), int(new_height)))\n",
    "    except BaseException as err:\n",
    "        print(type(err))\n",
    "        if(type(err) == KeyboardInterrupt):\n",
    "            raise Exception(\"stopped process\")\n",
    "        print(f\"Unexpected {err=}, {type(err)=}\")"
   ]
  },
  {
   "cell_type": "code",
   "execution_count": null,
   "metadata": {},
   "outputs": [],
   "source": [
    "def downscaleImgClass(className, threadCount):\n",
    "    print('downscaling img class >> '+className)\n",
    "    srcPath = 'srcImg/'+className\n",
    "    \n",
    "    # create target path if not exists\n",
    "    targetPath = 'downscaledImg/'+className\n",
    "    if not(os.path.exists(targetPath)): os.mkdir(targetPath)\n",
    "    \n",
    "    # list images in dir\n",
    "    images = os.listdir(srcPath)\n",
    "    \n",
    "    #define thread pool \n",
    "    pool = mp.Pool(threadCount)\n",
    "    \n",
    "    #for img in images:\n",
    "    pool.starmap(limitImgSize, zip(repeat(srcPath), repeat(targetPath), images, repeat(maxFileSize), repeat(fileSizeTolerance)))\n",
    "    #pool.starmap(processImage, [dir, cls, (images), targetPath])\n",
    "        #processImage(dir, cls, img, 'hello', targetPath)\n",
    "    \n",
    "    print('DONE downscaling img class >> '+className)\n",
    "    pool.close()"
   ]
  },
  {
   "cell_type": "code",
   "execution_count": null,
   "metadata": {},
   "outputs": [],
   "source": [
    "# create target dir if not exists\n",
    "downscaledPath = 'downscaledImg'\n",
    "if not(os.path.exists(downscaledPath)): os.mkdir(downscaledPath)\n",
    "    \n",
    "#define number of threads\n",
    "threadCount = mp.cpu_count()\n",
    "    \n",
    "classes = os.listdir('srcImg')\n",
    "for className in classes:\n",
    "    if(os.path.isdir('srcImg/'+className)):\n",
    "        downscaleImgClass(className, threadCount)\n",
    "        \n",
    "print('DONE!')"
   ]
  },
  {
   "cell_type": "code",
   "execution_count": null,
   "metadata": {},
   "outputs": [],
   "source": []
  },
  {
   "cell_type": "code",
   "execution_count": null,
   "metadata": {},
   "outputs": [],
   "source": []
  }
 ],
 "metadata": {
  "kernelspec": {
   "display_name": "Python 3",
   "language": "python",
   "name": "python3"
  },
  "language_info": {
   "codemirror_mode": {
    "name": "ipython",
    "version": 3
   },
   "file_extension": ".py",
   "mimetype": "text/x-python",
   "name": "python",
   "nbconvert_exporter": "python",
   "pygments_lexer": "ipython3",
   "version": "3.8.10"
  }
 },
 "nbformat": 4,
 "nbformat_minor": 2
}
