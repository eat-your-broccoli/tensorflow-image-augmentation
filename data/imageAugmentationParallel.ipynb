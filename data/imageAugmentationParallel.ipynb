{
 "cells": [
  {
   "cell_type": "code",
   "execution_count": null,
   "metadata": {},
   "outputs": [],
   "source": [
    "import tensorflow as tf\n",
    "from keras.preprocessing.image import ImageDataGenerator\n",
    "import os\n",
    "import scipy\n",
    "from skimage import io\n",
    "import multiprocessing as mp\n",
    "from itertools import repeat"
   ]
  },
  {
   "cell_type": "code",
   "execution_count": null,
   "metadata": {},
   "outputs": [],
   "source": [
    "datagen = ImageDataGenerator(\n",
    "    rotation_range=20, #rotate between 0 and 20 degree\n",
    "    width_shift_range=0.1, # shift width\n",
    "    height_shift_range=0.1,\n",
    "    zoom_range=0.2,\n",
    "    horizontal_flip=True,\n",
    "    fill_mode='nearest', # constant, nearest, reflect\n",
    "    cval=125,\n",
    "    brightness_range=[0.7,1.0])\n",
    "\n"
   ]
  },
  {
   "cell_type": "code",
   "execution_count": null,
   "metadata": {},
   "outputs": [],
   "source": [
    "dir = 'downscaledImg/'\n",
    "augmentedPath = 'augmentedImg/'\n",
    "\n",
    "# how many images should be produced per source image\n",
    "iterations = 5;\n",
    "\n",
    "# read all classes\n",
    "classes = os.listdir(dir)"
   ]
  },
  {
   "cell_type": "code",
   "execution_count": null,
   "metadata": {},
   "outputs": [],
   "source": [
    "# process an image\n",
    "def processImage(srcDir, cls, img, targetPath):\n",
    "    i = 0\n",
    "    try:\n",
    "        path = srcDir+cls+'/'+img\n",
    "        print(path)\n",
    "        x = io.imread(path)\n",
    "        x = x.reshape((1, ) + x.shape)\n",
    "        for batch in datagen.flow(x, batch_size=16,\n",
    "                          save_to_dir=targetPath,\n",
    "                          save_prefix='aug-'+img,\n",
    "                          save_format='png'):\n",
    "            i+=1\n",
    "            if i >= iterations: break;\n",
    "    except BaseException as err:\n",
    "        print(type(err))\n",
    "        if(type(err) == KeyboardInterrupt):\n",
    "            raise Exception(\"stopped process\")\n",
    "        print(f\"Unexpected {err=}, {type(err)=}\")\n",
    "\n",
    "def processImageClass(cls, subThreads):\n",
    "    print(\"starting with: \"+cls)\n",
    "    pool = mp.Pool(subThreads)\n",
    "    targetPath = augmentedPath+cls\n",
    "    images = os.listdir(dir+cls)\n",
    "    if not(os.path.exists(targetPath)): os.mkdir(targetPath)\n",
    "    #for img in images:\n",
    "    pool.starmap(processImage, zip(repeat(dir), repeat(cls), images, repeat(targetPath)))\n",
    "    #pool.starmap(processImage, [dir, cls, (images), targetPath])\n",
    "        #processImage(dir, cls, img, 'hello', targetPath)\n",
    "    pool.close()\n",
    "            \n",
    "    print(\"done with: \"+cls)"
   ]
  },
  {
   "cell_type": "code",
   "execution_count": null,
   "metadata": {},
   "outputs": [],
   "source": [
    "#define pool for parallel processing\n",
    "processors = mp.cpu_count()\n",
    "if not(os.path.exists(augmentedPath)): os.mkdir(augmentedPath)\n",
    "for cls in classes:\n",
    "    if(os.path.isdir(dir+cls)):\n",
    "        processImageClass(cls, processors)\n",
    "\n",
    "print('DONE!!!')\n"
   ]
  },
  {
   "cell_type": "code",
   "execution_count": null,
   "metadata": {},
   "outputs": [],
   "source": []
  },
  {
   "cell_type": "code",
   "execution_count": null,
   "metadata": {},
   "outputs": [],
   "source": []
  }
 ],
 "metadata": {
  "kernelspec": {
   "display_name": "Python 3",
   "language": "python",
   "name": "python3"
  },
  "language_info": {
   "codemirror_mode": {
    "name": "ipython",
    "version": 3
   },
   "file_extension": ".py",
   "mimetype": "text/x-python",
   "name": "python",
   "nbconvert_exporter": "python",
   "pygments_lexer": "ipython3",
   "version": "3.8.10"
  }
 },
 "nbformat": 4,
 "nbformat_minor": 2
}
