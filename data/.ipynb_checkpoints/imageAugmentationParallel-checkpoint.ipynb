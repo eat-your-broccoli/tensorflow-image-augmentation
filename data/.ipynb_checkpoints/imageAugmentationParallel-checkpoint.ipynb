{
 "cells": [
  {
   "cell_type": "code",
   "execution_count": 2,
   "metadata": {},
   "outputs": [],
   "source": [
    "import tensorflow as tf\n",
    "from keras.preprocessing.image import ImageDataGenerator\n",
    "import os\n",
    "import scipy\n",
    "from skimage import io\n",
    "import multiprocessing as mp\n",
    "from itertools import repeat"
   ]
  },
  {
   "cell_type": "code",
   "execution_count": 3,
   "metadata": {},
   "outputs": [],
   "source": [
    "datagen = ImageDataGenerator(\n",
    "    rotation_range=20, #rotate between 0 and 20 degree\n",
    "    width_shift_range=0.1, # shift width\n",
    "    height_shift_range=0.1,\n",
    "    zoom_range=0.2,\n",
    "    horizontal_flip=True,\n",
    "    fill_mode='nearest', # constant, nearest, reflect\n",
    "    cval=125,\n",
    "    brightness_range=[0.7,1.0])\n",
    "\n"
   ]
  },
  {
   "cell_type": "code",
   "execution_count": 7,
   "metadata": {},
   "outputs": [],
   "source": [
    "dir = 'srcImg/'\n",
    "augmentedPath = 'augmentedImg/'\n",
    "\n",
    "# how many images should be produced per source image\n",
    "iterations = 5;\n",
    "\n",
    "# read all classes\n",
    "classes = os.listdir(dir)"
   ]
  },
  {
   "cell_type": "code",
   "execution_count": 5,
   "metadata": {},
   "outputs": [],
   "source": [
    "# process an image\n",
    "def processImage(srcDir, cls, img, targetPath):\n",
    "    i = 0\n",
    "    try:\n",
    "        path = srcDir+cls+'/'+img\n",
    "        print(path)\n",
    "        x = io.imread(path)\n",
    "        x = x.reshape((1, ) + x.shape)\n",
    "        for batch in datagen.flow(x, batch_size=16,\n",
    "                          save_to_dir=targetPath,\n",
    "                          save_prefix='aug-'+img,\n",
    "                          save_format='png'):\n",
    "            i+=1\n",
    "            if i >= iterations: break;\n",
    "    except BaseException as err:\n",
    "        print(type(err))\n",
    "        if(type(err) == KeyboardInterrupt):\n",
    "            raise Exception(\"stopped process\")\n",
    "        print(f\"Unexpected {err=}, {type(err)=}\")\n",
    "\n",
    "def processImageClass(cls, subThreads):\n",
    "    print(\"starting with: \"+cls)\n",
    "    pool = mp.Pool(subThreads)\n",
    "    targetPath = augmentedPath+cls\n",
    "    images = os.listdir(dir+cls)\n",
    "    if not(os.path.exists(targetPath)): os.mkdir(targetPath)\n",
    "    #for img in images:\n",
    "    pool.starmap(processImage, zip(repeat(dir), repeat(cls), images, repeat(targetPath)))\n",
    "    #pool.starmap(processImage, [dir, cls, (images), targetPath])\n",
    "        #processImage(dir, cls, img, 'hello', targetPath)\n",
    "    pool.close()\n",
    "            \n",
    "    print(\"done with: \"+cls)"
   ]
  },
  {
   "cell_type": "code",
   "execution_count": 6,
   "metadata": {},
   "outputs": [
    {
     "name": "stdout",
     "output_type": "stream",
     "text": [
      "starting with: .gitkeep\n"
     ]
    },
    {
     "ename": "NotADirectoryError",
     "evalue": "[Errno 20] Not a directory: 'srcImg/.gitkeep'",
     "output_type": "error",
     "traceback": [
      "\u001b[0;31m---------------------------------------------------------------------------\u001b[0m",
      "\u001b[0;31mNotADirectoryError\u001b[0m                        Traceback (most recent call last)",
      "\u001b[0;32m<ipython-input-6-044592559086>\u001b[0m in \u001b[0;36m<module>\u001b[0;34m\u001b[0m\n\u001b[1;32m      4\u001b[0m \u001b[0;32mif\u001b[0m \u001b[0;32mnot\u001b[0m\u001b[0;34m(\u001b[0m\u001b[0mos\u001b[0m\u001b[0;34m.\u001b[0m\u001b[0mpath\u001b[0m\u001b[0;34m.\u001b[0m\u001b[0mexists\u001b[0m\u001b[0;34m(\u001b[0m\u001b[0maugmentedPath\u001b[0m\u001b[0;34m)\u001b[0m\u001b[0;34m)\u001b[0m\u001b[0;34m:\u001b[0m \u001b[0mos\u001b[0m\u001b[0;34m.\u001b[0m\u001b[0mmkdir\u001b[0m\u001b[0;34m(\u001b[0m\u001b[0maugmentedPath\u001b[0m\u001b[0;34m)\u001b[0m\u001b[0;34m\u001b[0m\u001b[0;34m\u001b[0m\u001b[0m\n\u001b[1;32m      5\u001b[0m \u001b[0;32mfor\u001b[0m \u001b[0mcls\u001b[0m \u001b[0;32min\u001b[0m \u001b[0mclasses\u001b[0m\u001b[0;34m:\u001b[0m\u001b[0;34m\u001b[0m\u001b[0;34m\u001b[0m\u001b[0m\n\u001b[0;32m----> 6\u001b[0;31m     \u001b[0mprocessImageClass\u001b[0m\u001b[0;34m(\u001b[0m\u001b[0mcls\u001b[0m\u001b[0;34m,\u001b[0m \u001b[0mprocessors\u001b[0m\u001b[0;34m)\u001b[0m\u001b[0;34m\u001b[0m\u001b[0;34m\u001b[0m\u001b[0m\n\u001b[0m\u001b[1;32m      7\u001b[0m \u001b[0;31m#pool.starmap(processImageClass, [(classes), subThreads])\u001b[0m\u001b[0;34m\u001b[0m\u001b[0;34m\u001b[0m\u001b[0;34m\u001b[0m\u001b[0m\n\u001b[1;32m      8\u001b[0m \u001b[0;31m#pool.starmap(processImageClass, zip(classes, repeat(subThreads)))\u001b[0m\u001b[0;34m\u001b[0m\u001b[0;34m\u001b[0m\u001b[0;34m\u001b[0m\u001b[0m\n",
      "\u001b[0;32m<ipython-input-5-46ca1c79e731>\u001b[0m in \u001b[0;36mprocessImageClass\u001b[0;34m(cls, subThreads)\u001b[0m\n\u001b[1;32m     23\u001b[0m     \u001b[0mpool\u001b[0m \u001b[0;34m=\u001b[0m \u001b[0mmp\u001b[0m\u001b[0;34m.\u001b[0m\u001b[0mPool\u001b[0m\u001b[0;34m(\u001b[0m\u001b[0msubThreads\u001b[0m\u001b[0;34m)\u001b[0m\u001b[0;34m\u001b[0m\u001b[0;34m\u001b[0m\u001b[0m\n\u001b[1;32m     24\u001b[0m     \u001b[0mtargetPath\u001b[0m \u001b[0;34m=\u001b[0m \u001b[0;34m'augmented/'\u001b[0m\u001b[0;34m+\u001b[0m\u001b[0mcls\u001b[0m\u001b[0;34m\u001b[0m\u001b[0;34m\u001b[0m\u001b[0m\n\u001b[0;32m---> 25\u001b[0;31m     \u001b[0mimages\u001b[0m \u001b[0;34m=\u001b[0m \u001b[0mos\u001b[0m\u001b[0;34m.\u001b[0m\u001b[0mlistdir\u001b[0m\u001b[0;34m(\u001b[0m\u001b[0mdir\u001b[0m\u001b[0;34m+\u001b[0m\u001b[0mcls\u001b[0m\u001b[0;34m)\u001b[0m\u001b[0;34m\u001b[0m\u001b[0;34m\u001b[0m\u001b[0m\n\u001b[0m\u001b[1;32m     26\u001b[0m     \u001b[0;32mif\u001b[0m \u001b[0;32mnot\u001b[0m\u001b[0;34m(\u001b[0m\u001b[0mos\u001b[0m\u001b[0;34m.\u001b[0m\u001b[0mpath\u001b[0m\u001b[0;34m.\u001b[0m\u001b[0mexists\u001b[0m\u001b[0;34m(\u001b[0m\u001b[0mtargetPath\u001b[0m\u001b[0;34m)\u001b[0m\u001b[0;34m)\u001b[0m\u001b[0;34m:\u001b[0m \u001b[0mos\u001b[0m\u001b[0;34m.\u001b[0m\u001b[0mmkdir\u001b[0m\u001b[0;34m(\u001b[0m\u001b[0mtargetPath\u001b[0m\u001b[0;34m)\u001b[0m\u001b[0;34m\u001b[0m\u001b[0;34m\u001b[0m\u001b[0m\n\u001b[1;32m     27\u001b[0m     \u001b[0;31m#for img in images:\u001b[0m\u001b[0;34m\u001b[0m\u001b[0;34m\u001b[0m\u001b[0;34m\u001b[0m\u001b[0m\n",
      "\u001b[0;31mNotADirectoryError\u001b[0m: [Errno 20] Not a directory: 'srcImg/.gitkeep'"
     ]
    }
   ],
   "source": [
    "#define pool for parallel processing\n",
    "processors = mp.cpu_count()\n",
    "if not(os.path.exists(augmentedPath)): os.mkdir(augmentedPath)\n",
    "for cls in classes:\n",
    "    if(os.path.isdir(dir+cls)):\n",
    "        processImageClass(cls, processors)\n",
    "#pool.starmap(processImageClass, [(classes), subThreads])\n",
    "#pool.starmap(processImageClass, zip(classes, repeat(subThreads)))\n",
    "\n",
    "print('DONE!!!')\n"
   ]
  },
  {
   "cell_type": "code",
   "execution_count": null,
   "metadata": {},
   "outputs": [],
   "source": []
  },
  {
   "cell_type": "code",
   "execution_count": null,
   "metadata": {},
   "outputs": [],
   "source": []
  }
 ],
 "metadata": {
  "kernelspec": {
   "display_name": "Python 3",
   "language": "python",
   "name": "python3"
  },
  "language_info": {
   "codemirror_mode": {
    "name": "ipython",
    "version": 3
   },
   "file_extension": ".py",
   "mimetype": "text/x-python",
   "name": "python",
   "nbconvert_exporter": "python",
   "pygments_lexer": "ipython3",
   "version": "3.8.10"
  }
 },
 "nbformat": 4,
 "nbformat_minor": 2
}
